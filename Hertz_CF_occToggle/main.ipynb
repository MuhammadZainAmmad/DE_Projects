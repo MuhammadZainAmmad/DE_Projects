{
 "cells": [
  {
   "cell_type": "code",
   "execution_count": null,
   "metadata": {},
   "outputs": [],
   "source": [
    "import pygsheets\n",
    "from google.cloud import secretmanager\n",
    "from google.cloud import bigquery\n",
    "from datetime import datetime \n",
    "from datetime import timedelta\n",
    "\n",
    "import requests\n",
    "import os\n",
    "import urllib\n",
    "import google.oauth2.id_token\n",
    "import google.auth.transport.requests\n",
    "import subprocess\n",
    "import pygsheets\n",
    "from google.cloud import secretmanager\n",
    "\n",
    "from credentials import PROJECT_ID, SM_SECRET_NAME, SHEET_KEY_HEIRLOOM_PRICING_MODEL, SHEET_TAB_COMPLIANCE_TOGGLE, CF_GET_TOKEN_V2_URL"
   ]
  },
  {
   "cell_type": "code",
   "execution_count": null,
   "metadata": {},
   "outputs": [],
   "source": [
    "# ------ SECRET MANAGER ---------\n",
    "class SecretManager():\n",
    "    \"\"\" Construct Secret Manager client\n",
    "    \"\"\"\n",
    "    client = secretmanager.SecretManagerServiceClient()\n",
    "\n",
    "    def __init__(self, project_id):\n",
    "        self.project_id = project_id\n",
    "        self.parent = f\"projects/{project_id}\"\n",
    "\n",
    "    def get_secret(self, secret_id, version_id:str = \"latest\"):\n",
    "        \"\"\" Get secret value\n",
    "\n",
    "            TODO:\n",
    "                - Raise if secret not found\n",
    "            Args:\n",
    "                secret_id (str): Secret ID\n",
    "                version_id (str): Secret version ID\n",
    "                    default: latest\n",
    "            Returns:\n",
    "                secret_value (str): Secret value\n",
    "        \"\"\"\n",
    "        # Access the secret version\n",
    "        response = self.client.access_secret_version(\n",
    "            request={\n",
    "                \"name\": f\"projects/{self.project_id}/secrets/{secret_id}/versions/{version_id}\"\n",
    "                })\n",
    "        print(\"Accessed secret version: {}\".format(response.name))\n",
    "        # Return the decoded payload\n",
    "        return response.payload.data.decode(\"UTF-8\")     "
   ]
  },
  {
   "cell_type": "markdown",
   "metadata": {},
   "source": [
    "### Fetching data from Google Sheets"
   ]
  },
  {
   "cell_type": "code",
   "execution_count": null,
   "metadata": {},
   "outputs": [],
   "source": [
    "# Get the SA key from Secret Manager\n",
    "sm = SecretManager(PROJECT_ID)\n",
    "sa_key_json = sm.get_secret(SM_SECRET_NAME)"
   ]
  },
  {
   "cell_type": "code",
   "execution_count": null,
   "metadata": {},
   "outputs": [],
   "source": [
    "gc = pygsheets.authorize(service_account_json=sa_key_json)\n",
    "sheet_pricingModel = gc.open_by_key(SHEET_KEY_HEIRLOOM_PRICING_MODEL)\n",
    "sheet_complianceToggle = sheet_pricingModel.worksheet_by_title(SHEET_TAB_COMPLIANCE_TOGGLE)\n",
    "df_complianceToggle = sheet_complianceToggle.get_as_df()\n",
    "df_complianceToggle"
   ]
  },
  {
   "cell_type": "markdown",
   "metadata": {},
   "source": [
    "### Fetching data from BigQuery"
   ]
  },
  {
   "cell_type": "code",
   "execution_count": null,
   "metadata": {},
   "outputs": [],
   "source": [
    "bq_client = bigquery.Client(project=PROJECT_ID)"
   ]
  },
  {
   "cell_type": "code",
   "execution_count": null,
   "metadata": {},
   "outputs": [],
   "source": [
    "query = bq_client.query(\"SELECT * FROM stayloom.Listings.t_listing_dictionary\")\n",
    "df_listing_dict = query.result().to_dataframe() \n",
    "df_listing_dict"
   ]
  },
  {
   "cell_type": "markdown",
   "metadata": {},
   "source": [
    "### Analysis to Join data from both resources"
   ]
  },
  {
   "cell_type": "code",
   "execution_count": null,
   "metadata": {},
   "outputs": [],
   "source": [
    "# renaming column name in sheets df for join\n",
    "df_complianceToggle.rename(columns={'Listing Unit Address': 'Listing_Unit_Address'}, inplace=True)"
   ]
  },
  {
   "cell_type": "code",
   "execution_count": null,
   "metadata": {},
   "outputs": [],
   "source": [
    "# listing_unit_address is the common column in both df\n",
    "df_listingDict_listedTrue = df_listing_dict[['External_ID', 'Listing_Unit_Address']][df_listing_dict['Listied_on_any_channels_'] == True] # filtering the listings which are listed to get unique external id\n",
    "df_listingDict_listedTrue"
   ]
  },
  {
   "cell_type": "markdown",
   "metadata": {},
   "source": [
    "### Joining both df"
   ]
  },
  {
   "cell_type": "code",
   "execution_count": null,
   "metadata": {},
   "outputs": [],
   "source": [
    "df_joined = df_complianceToggle.merge(df_listingDict_listedTrue[['External_ID', 'Listing_Unit_Address']], on='Listing_Unit_Address')\n",
    "df_joined"
   ]
  },
  {
   "cell_type": "markdown",
   "metadata": {},
   "source": [
    "### time zone mapping"
   ]
  },
  {
   "cell_type": "markdown",
   "metadata": {},
   "source": [
    "|ABBREVIATION\t|TIME ZONE NAME\t                |UTC OFFSET\n",
    "|---------------|-------------------------------|----------\n",
    "|AST\t        |ATLANTIC STANDARD TIME\t        |UTC - 4\n",
    "|EST\t        |EASTERN STANDARD TIME\t        |UTC - 5\n",
    "|EDT\t        |EASTERN DAYLIGHT TIME\t        |UTC - 4\n",
    "|CST\t        |CENTRAL STANDARD TIME\t        |UTC - 6\n",
    "|CDT\t        |CENTRAL DAYLIGHT TIME\t        |UTC - 5\n",
    "|MST\t        |MOUNTAIN STANDARD TIME\t        |UTC - 7\n",
    "|MDT\t        |MOUNTAIN DAYLIGHT TIME\t        |UTC - 6\n",
    "|PST\t        |PACIFIC STANDARD TIME\t        |UTC - 8\n",
    "|PDT\t        |PACIFIC DAYLIGHT TIME\t        |UTC - 7\n",
    "|AKST\t        |ALASKA TIME\t                |UTC - 9\n",
    "|AKDT\t        |ALASKA DAYLIGHT TIME\t        |UTC - 8\n",
    "|HST\t        |HAWAII STANDARD TIME\t        |UTC - 10\n",
    "|HAST\t        |HAWAII-ALEUTIAN STANDARD TIME\t|UTC - 10\n",
    "|HADT\t        |HAWAII-ALEUTIAN DAYLIGHT TIME\t|UTC - 9\n",
    "|SST\t        |SAMOA STANDARD TIME\t        |UTC - 11\n",
    "|SDT\t        |SAMOA DAYLIGHT TIME\t        |UTC - 10\n",
    "|CHST\t        |CHAMORRO STANDARD TIME\t        |UTC +10"
   ]
  },
  {
   "cell_type": "code",
   "execution_count": null,
   "metadata": {},
   "outputs": [],
   "source": [
    "utc_now = datetime.utcnow() \n",
    "mapping_timezone = {\n",
    "    'AST': (utc_now - timedelta(hours=4)).strftime('%H:%M'),\n",
    "    'EST': (utc_now - timedelta(hours=5)).strftime('%H:%M'),\n",
    "    'EDT': (utc_now - timedelta(hours=4)).strftime('%H:%M'),\n",
    "    'CST': (utc_now - timedelta(hours=6)).strftime('%H:%M'),\n",
    "    'CDT': (utc_now - timedelta(hours=5)).strftime('%H:%M'),\n",
    "    'MST': (utc_now - timedelta(hours=7)).strftime('%H:%M'),\n",
    "    'MDT': (utc_now - timedelta(hours=6)).strftime('%H:%M'),\n",
    "    'PST': (utc_now - timedelta(hours=8)).strftime('%H:%M'),\n",
    "    'PDT': (utc_now - timedelta(hours=7)).strftime('%H:%M'),\n",
    "    'AKST': (utc_now - timedelta(hours=9)).strftime('%H:%M'),\n",
    "    'AKDT': (utc_now - timedelta(hours=8)).strftime('%H:%M'),\n",
    "    'HST': (utc_now - timedelta(hours=10)).strftime('%H:%M'),\n",
    "    'HAST': (utc_now - timedelta(hours=10)).strftime('%H:%M'),\n",
    "    'HADT': (utc_now - timedelta(hours=9)).strftime('%H:%M'),\n",
    "    'SST': (utc_now - timedelta(hours=11)).strftime('%H:%M'),\n",
    "    'SDT': (utc_now - timedelta(hours=10)).strftime('%H:%M'),\n",
    "    'CHST': (utc_now + timedelta(hours=10)).strftime('%H:%M')\n",
    "}\n",
    "mapping_timezone"
   ]
  },
  {
   "cell_type": "markdown",
   "metadata": {},
   "source": [
    "### populating actual occupancy for each listing"
   ]
  },
  {
   "cell_type": "code",
   "execution_count": null,
   "metadata": {},
   "outputs": [],
   "source": [
    "df_joined['actual_occupancy'] = ''\n",
    "df_joined"
   ]
  },
  {
   "cell_type": "code",
   "execution_count": null,
   "metadata": {},
   "outputs": [],
   "source": [
    "# function to apply logic of populating actual occupancy \n",
    "def set_actual_occupancy(df_row):\n",
    "    timezone = df_row['Timezone'] # fetching timezone of a listing\n",
    "    tz_time = mapping_timezone[timezone] # mapping timezone with its current time \n",
    "    time_in = df_row['Time In']\n",
    "    time_out = df_row['Time Out']\n",
    "    \n",
    "    # if the current time of the listing's timezone lies between time in and time out value of that listing then \n",
    "    # Number of Occupants (In) value will be actual occupancy value\n",
    "    if datetime.strptime(time_in, '%H:%M') <= datetime.strptime(tz_time, '%H:%M') <= datetime.strptime(time_out, '%H:%M'):\n",
    "        return df_row['Number of Occupants (In)']\n",
    "    else:\n",
    "        return df_row['Number of Occupants (Out)']"
   ]
  },
  {
   "cell_type": "code",
   "execution_count": null,
   "metadata": {},
   "outputs": [],
   "source": [
    "df_joined['actual_occupancy'] = df_joined.apply(set_actual_occupancy, axis= 1)\n",
    "df_joined"
   ]
  },
  {
   "cell_type": "markdown",
   "metadata": {},
   "source": [
    "### applying actual occupancy to Guesty listings"
   ]
  },
  {
   "cell_type": "code",
   "execution_count": null,
   "metadata": {},
   "outputs": [],
   "source": [
    "# Get the Guesty API key\n",
    "def get_token(url):\n",
    "    \"\"\" Generate token and make request to endpoint\n",
    "\n",
    "        Docs:\n",
    "            - https://cloud.google.com/functions/docs/securing/authenticating#console\n",
    "    \"\"\"\n",
    "    # Environment: C.Functions\n",
    "    if \"FUNCTION_TARGET\" in os.environ:\n",
    "        req = urllib.request.Request(url)\n",
    "        auth_req = google.auth.transport.requests.Request()\n",
    "        id_token = google.oauth2.id_token.fetch_id_token(auth_req, url)\n",
    "        req.add_header(\"Authorization\", f\"Bearer {id_token}\")\n",
    "        response = urllib.request.urlopen(req)\n",
    "        return response.read().decode(\"utf-8\")\n",
    "    # Environment: Local\n",
    "    else:\n",
    "        # HACK: Get the token from gcloud\n",
    "        gcloud_itoken = subprocess.check_output([\"gcloud\",\"auth\", \"print-identity-token\"], shell= True)\n",
    "        token = gcloud_itoken.decode().strip()\n",
    "        # Make request\n",
    "        headers = {\n",
    "            'Content-Type': 'application/json',\n",
    "            'Authorization': f'Bearer {token}'\n",
    "        }\n",
    "        return requests.get(url, headers=headers).text"
   ]
  },
  {
   "cell_type": "code",
   "execution_count": null,
   "metadata": {},
   "outputs": [],
   "source": [
    "token = get_token(CF_GET_TOKEN_V2_URL)\n",
    "# print(token)\n",
    "\n",
    "guesty_headers = {\n",
    "    'Authorization': f'Bearer {token}',\n",
    "    'content-type': 'application/json'\n",
    "}"
   ]
  },
  {
   "cell_type": "code",
   "execution_count": null,
   "metadata": {},
   "outputs": [],
   "source": [
    "# # function to populate actual occupancy (custom field) of each listing on Guesty\n",
    "# def populating_actualOcc_toGuesty(df_row):\n",
    "#     url_update_actualOcc = f\"https://open-api.guesty.com/v1/listings/{df_row['External_ID']}/custom-fields\"\n",
    "#     payload = { \"customFields\": [\n",
    "#             {\n",
    "#                 \"fieldId\": \"5ae01c0b34249a00248b2f62\",\n",
    "#                 \"value\": str(df_row['actual_occupancy'])\n",
    "#             }\n",
    "#         ] }\n",
    "#     response = requests.put(url_update_actualOcc, json=payload, headers=guesty_headers)\n",
    "\n",
    "#     print(f\"Finished with status code: {response.status_code}\")"
   ]
  },
  {
   "cell_type": "code",
   "execution_count": null,
   "metadata": {},
   "outputs": [],
   "source": [
    "# function to populate accommodates (actual field) of each listing on Guesty\n",
    "def populating_actualOcc_toGuesty(df_row):\n",
    "    url_update_accomodate = f\"https://open-api.guesty.com/v1/listings/{df_row['External_ID']}\"\n",
    "    payload = { \"accommodates\": str(df_row['actual_occupancy']) }\n",
    "    response = requests.put(url_update_accomodate, json=payload, headers=guesty_headers)\n",
    "\n",
    "    print(f\"API responded with status code: {response.status_code}\")"
   ]
  },
  {
   "cell_type": "code",
   "execution_count": null,
   "metadata": {},
   "outputs": [],
   "source": [
    "df_joined.apply(populating_actualOcc_toGuesty, axis=1)"
   ]
  }
 ],
 "metadata": {
  "kernelspec": {
   "display_name": "Python 3",
   "language": "python",
   "name": "python3"
  },
  "language_info": {
   "codemirror_mode": {
    "name": "ipython",
    "version": 3
   },
   "file_extension": ".py",
   "mimetype": "text/x-python",
   "name": "python",
   "nbconvert_exporter": "python",
   "pygments_lexer": "ipython3",
   "version": "3.9.7"
  }
 },
 "nbformat": 4,
 "nbformat_minor": 2
}
